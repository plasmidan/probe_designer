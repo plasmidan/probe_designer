{
 "cells": [
  {
   "cell_type": "markdown",
   "metadata": {},
   "source": [
    "# Download genomes of interest from NCBI\n",
    " - find your assembly accession on the ncbi website"
   ]
  },
  {
   "cell_type": "code",
   "execution_count": null,
   "metadata": {
    "collapsed": true
   },
   "outputs": [],
   "source": [
    "from genome_handler import downloadNcbiGenomes\n",
    "\n",
    "# You can download multiple genomes by filling out the accession_list dict\n",
    "accessions = {'pheobacter' : 'ASM15476v2',\n",
    "                  'ecoli' : 'ASM584v2',\n",
    "                  'fusarium' : 'ASM14995v2'\n",
    "                  } \n",
    "\n",
    "downloadNcbiGenomes(\n",
    "                   accessions = accessions,\n",
    "                   genome_database_dir = r'C:\\Users\\Daniel\\Documents\\analysis\\probe_designer\\genomes', #specifiy where to store your genome info\n",
    "                   is_refseq_format = True, # False -> Use GenBank names and locus_tags\n",
    "                   )"
   ]
  },
  {
   "cell_type": "markdown",
   "metadata": {},
   "source": [
    "# Identify all specific probes per gene \n",
    " - apply to single organisms or to groups of organisms"
   ]
  },
  {
   "cell_type": "code",
   "execution_count": 13,
   "metadata": {
    "collapsed": false
   },
   "outputs": [
    {
     "name": "stdout",
     "output_type": "stream",
     "text": [
      "Designing probes...\n",
      " - generate naive probes\n",
      " - blasting naive probes\n",
      " - determining probe specificities\n"
     ]
    }
   ],
   "source": [
    "from probe_designer import findSpecificProbes\n",
    "\n",
    "\n",
    "# choose your organism (or multiple ones for cross-design)\n",
    "accessions = {\n",
    "            'phaeobacter_inhibens_DSM_17395' : 'ASM15476v2',\n",
    "            'ecoli_k12' : 'ASM584v2',\n",
    "            'fusarium' : 'ASM14995v2'     \n",
    "            }\n",
    "\n",
    "findSpecificProbes(\n",
    "            run_name = 'speedy_test', #what your output dir will be called\n",
    "            genome_database_dir = r'C:\\Users\\Daniel\\Documents\\analysis\\probe_designer\\genomes', #dir with all of your downloaded genomes\n",
    "            probes_dir = r'C:\\Users\\Daniel\\Documents\\analysis\\probe_designer\\probes',\n",
    "            accessions = accessions,\n",
    "            probe_props = {'probe_len': 30,'gc_min': 40,'gc_max': 65,'max_base_rep': 4 }, # Control the probe design properties (default values)\n",
    "            max_nonspecific_match = 18, # control specificity\n",
    "            is_allow_gene_duplicates = True, # allow cross-hyb between duplicates?\n",
    "            \n",
    "            max_genes_test_parm = 10 #remove when done with testing ###\n",
    "            )"
   ]
  },
  {
   "cell_type": "markdown",
   "metadata": {},
   "source": [
    "# Identify the maximum number of probes per gene"
   ]
  },
  {
   "cell_type": "code",
   "execution_count": 12,
   "metadata": {
    "collapsed": false
   },
   "outputs": [
    {
     "name": "stdout",
     "output_type": "stream",
     "text": [
      "Probe overlap enabled for: -5 bp\n",
      "fusarium ASM14995v2\n",
      "phaeobacter_inhibens_DSM_17395 ASM15476v2\n",
      "ecoli_k12 ASM584v2\n"
     ]
    }
   ],
   "source": [
    "from probe_designer import findMaxProbesPerGene\n",
    "\n",
    "accessions = {\n",
    "            'fusarium' : 'ASM14995v2', \n",
    "            'phaeobacter_inhibens_DSM_17395' : 'ASM15476v2',\n",
    "            'ecoli_k12' : 'ASM584v2'     \n",
    "            }\n",
    "\n",
    "findMaxProbesPerGene(\n",
    "                    run_name = 'speedy_test',\n",
    "                    accessions = accessions,\n",
    "                    genome_database_dir = r'C:\\Users\\Daniel\\Documents\\analysis\\probe_designer\\genomes',\n",
    "                    probes_dir = r'C:\\Users\\Daniel\\Documents\\analysis\\probe_designer\\probes',\n",
    "                    min_probe_distance = -5, # min distance between probes (negative numbers allow overlap)\n",
    "                    method = 'dp', # dp | heuristic\n",
    "                    is_exon_only = False # only for euks\n",
    "                    )"
   ]
  },
  {
   "cell_type": "markdown",
   "metadata": {},
   "source": [
    "# assemble probes"
   ]
  },
  {
   "cell_type": "code",
   "execution_count": null,
   "metadata": {
    "collapsed": false
   },
   "outputs": [],
   "source": [
    "from probe_assembler import ProbeAssembler\n",
    "\n",
    "\n",
    "accessions = {\n",
    "            # 'fusarium' : 'ASM14995v2', \n",
    "            'phaeobacter_inhibens_DSM_17395' : 'ASM15476v2',\n",
    "            'ecoli_k12' : 'ASM584v2'     \n",
    "            }\n",
    "\n",
    "# initiate the assembler\n",
    "probe_designer = ProbeAssembler(\n",
    "    run_dir = r'C:\\Users\\Daniel\\Documents\\analysis\\probe_designer\\probes\\ecoli_and_phaeobacter_test',\n",
    "    probe_per_gene = 'ecoli_k12.dp.probes_per_gene.txt', #\n",
    "    primary_probes = 'ecoli_k12.dp.max_probes.txt', # the probes\n",
    "    selected_gene_list = 'ecoli_genes_to_select.txt', #a text file with locus_tag column\n",
    "    is_amplification = True, #True if using Twist\n",
    "    num_of_flanking = 2, #choose 2 or 4\n",
    "    max_probes_per_ch = {'fluor_640nm' : 16, 'fluor_560nm' : 18, 'fluor_488nm' : 30}, #\n",
    "    probes_to_remove = ['R6','R21','R36','R107'], # problematic ROs to remove\n",
    "    reference_genes = [],\n",
    "    genes_of_interest = [], #genes to priorize in fluor_640nm\n",
    "    positive_control_genes = { 'dnaA-dnaN': {'genes': ['b3702','b3701'], 'readouts' : {'fluor_640nm': 4,'fluor_488nm' : 5, 'fluor_560nm' : 9} } }, # gene or operon where probes for 3 channels will be generated\n",
    "    negative_control_genes = { }, # gene or operon where probes for 3 channels will be generated #'genes': ['P1_gp003','P1_gp013','P1_gp078'], 'readouts' : {'A647': 4,'A488' : 5, 'A550' : 15}\n",
    ")\n",
    "\n",
    "probe_designer.design()\n"
   ]
  }
 ],
 "metadata": {
  "kernelspec": {
   "display_name": "Python 3",
   "language": "python",
   "name": "python3"
  },
  "language_info": {
   "codemirror_mode": {
    "name": "ipython",
    "version": 3
   },
   "file_extension": ".py",
   "mimetype": "text/x-python",
   "name": "python",
   "nbconvert_exporter": "python",
   "pygments_lexer": "ipython3",
   "version": "3.9.18"
  }
 },
 "nbformat": 4,
 "nbformat_minor": 0
}
