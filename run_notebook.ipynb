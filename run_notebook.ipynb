{
 "cells": [
  {
   "cell_type": "markdown",
   "metadata": {},
   "source": [
    "# Download genomes of interest from NCBI\n",
    " - find your assembly accession on the ncbi website\n",
    " - update the \"acessions\" dictionary (multiple genomes can be processed together) \n",
    " - run to download and process the files"
   ]
  },
  {
   "cell_type": "code",
   "execution_count": 2,
   "metadata": {
    "collapsed": true
   },
   "outputs": [
    {
     "name": "stdout",
     "output_type": "stream",
     "text": [
      "downloading: pheobacter -> ASM15476v2\n",
      "downloading: ecoli -> ASM584v2\n",
      "downloading: fusarium -> ASM14995v2\n",
      "downloading: ostreococcus_tauri -> GCF_000214015.3\n",
      "downloading: os_virus_sOtV5 -> GCF_000872425.2\n"
     ]
    }
   ],
   "source": [
    "from genome_handler import downloadNcbiGenomes\n",
    "\n",
    "# Where you genomes will be saved\n",
    "genome_database_dir = r'/home/labs/danielda/danielda/scripts/probe_designer/genomes'\n",
    "\n",
    "# organism_name : accession\n",
    "accessions = {\n",
    "    'pheobacter' : 'ASM15476v2',\n",
    "                  'ecoli' : 'ASM584v2',\n",
    "                  'fusarium' : 'ASM14995v2',\n",
    "                  'ostreococcus_tauri' : 'GCF_000214015.3',\n",
    "                  'os_virus_sOtV5' : 'GCF_000872425.2'\n",
    "                  }\n",
    "\n",
    "\n",
    "downloadNcbiGenomes(\n",
    "                   accessions = accessions,\n",
    "                   genome_database_dir = genome_database_dir, #specifiy where to store your genome info\n",
    "                   is_refseq_format = True, # False -> Use GenBank names and locus_tags\n",
    "                   )\n",
    "\n"
   ]
  },
  {
   "cell_type": "markdown",
   "metadata": {},
   "source": [
    "# For manually downloaded genomes\n",
    " - make sure directory name ends with the accession\n",
    "\n"
   ]
  },
  {
   "cell_type": "code",
   "execution_count": null,
   "metadata": {},
   "outputs": [],
   "source": [
    "from genome_handler import processDownloadedGenome\n",
    "\n",
    "# Where you genome directory is stored \n",
    "genome_database_dir = r'C:\\Users\\Daniel\\Documents\\analysis\\probe_designer\\genomes'\n",
    "downloaded_genome_path = f'{genome_database_dir}/Rhizobium sp. 57MFTsu3.2_2228664006'\n",
    "\n",
    "processDownloadedGenome(\n",
    "            downloaded_genome_path = downloaded_genome_path,\n",
    "            accession = '2228664006',\n",
    "            is_img = True\n",
    ")"
   ]
  },
  {
   "cell_type": "markdown",
   "metadata": {},
   "source": [
    "# Identify all specific probes per gene \n",
    " - apply to single organisms or to groups of organisms"
   ]
  },
  {
   "cell_type": "code",
   "execution_count": 3,
   "metadata": {
    "collapsed": false
   },
   "outputs": [
    {
     "name": "stdout",
     "output_type": "stream",
     "text": [
      "Designing probes (parallel mode)...\n",
      " - finding gene duplicates\n",
      " - generate naive probes\n",
      " - blasting naive probes\n",
      " - determining probe specificities\n"
     ]
    }
   ],
   "source": [
    "from probe_designer import findSpecificProbes\n",
    "\n",
    "\n",
    "# choose your organism (or multiple ones for cross-design)\n",
    "accessions = {\n",
    "    # 'pheobacter' : 'ASM15476v2',\n",
    "                  'ecoli' : 'ASM584v2',\n",
    "                #   'fusarium' : 'ASM14995v2',\n",
    "                #   'ostreococcus_tauri' : 'GCF_000214015.3',\n",
    "                #   'os_virus_sOtV5' : 'GCF_000872425.2'\n",
    "                  } \n",
    "\n",
    "findSpecificProbes(\n",
    "            run_name = 'ecoli_test', #what your output dir will be called\n",
    "            genome_database_dir = r'/home/labs/danielda/danielda/scripts/probe_designer/genomes', #dir with all of your downloaded genomes\n",
    "            probes_dir = r'/home/labs/danielda/danielda/scripts/probe_designer/probes',\n",
    "            accessions = accessions,\n",
    "            probe_props = {'probe_len': 30,'gc_min': 40,'gc_max': 65,'max_base_rep': 4 }, # Control the probe design properties (default values)\n",
    "            max_nonspecific_match = 18, # control specificity\n",
    "            is_allow_gene_duplicates = False, # allow cross-hyb between duplicates?\n",
    "            is_parallel = True,\n",
    "            chunk_size = 500000,\n",
    "            lsf_scripts_dir = r'/home/labs/danielda/danielda/scripts/probe_designer/lsf_scripts',\n",
    "            is_overwrite = False,\n",
    "\n",
    "            )"
   ]
  },
  {
   "cell_type": "markdown",
   "metadata": {},
   "source": [
    "# Identify the maximum number of probes per gene"
   ]
  },
  {
   "cell_type": "code",
   "execution_count": 4,
   "metadata": {
    "collapsed": false
   },
   "outputs": [
    {
     "name": "stdout",
     "output_type": "stream",
     "text": [
      "ecoli_k12 ASM584v2\n"
     ]
    }
   ],
   "source": [
    "from probe_designer import findMaxProbesPerGene\n",
    "\n",
    "accessions = {\n",
    "            # 'fusarium' : 'ASM14995v2', \n",
    "            # 'phaeobacter_inhibens_DSM_17395' : 'ASM15476v2',\n",
    "            'ecoli_k12' : 'ASM584v2',\n",
    "            # 'ostreococcus_tauri' : 'GCF_000214015.3',\n",
    "            # 'os_virus_sOtV5' : 'GCF_000872425.2',\n",
    "            # 'rhizobium' : '2228664006'    \n",
    "            }\n",
    "\n",
    "findMaxProbesPerGene(\n",
    "                    run_name = 'ecoli_test',\n",
    "                    accessions = accessions,\n",
    "                    genome_database_dir = r'/home/labs/danielda/danielda/scripts/probe_designer/genomes',\n",
    "                    probes_dir = r'/home/labs/danielda/danielda/scripts/probe_designer/probes',\n",
    "                    min_probe_distance = 1, # min distance between probes (negative numbers allow overlap)\n",
    "                    is_exon_only = True \n",
    "                    )"
   ]
  },
  {
   "cell_type": "markdown",
   "metadata": {},
   "source": [
    "# assemble probes"
   ]
  },
  {
   "cell_type": "code",
   "execution_count": null,
   "metadata": {
    "collapsed": false
   },
   "outputs": [],
   "source": [
    "from probe_assembler import ProbeAssembler\n",
    "\n",
    "\n",
    "accessions = {\n",
    "            # 'fusarium' : 'ASM14995v2', \n",
    "            # 'phaeobacter_inhibens_DSM_17395' : 'ASM15476v2',\n",
    "            # 'ecoli_k12' : 'ASM584v2',\n",
    "            # 'ostreococcus_tauri' : 'GCF_000214015.3',\n",
    "            # 'os_virus_sOtV5' : 'GCF_000872425.2',\n",
    "            'rhizobium' : '2228664006'     \n",
    "            }\n",
    "\n",
    "# initiate the assembler\n",
    "probe_designer = ProbeAssembler(\n",
    "    run_dir = r'C:\\Users\\Daniel\\Documents\\analysis\\probe_designer\\probes\\rhizobium_IMG',\n",
    "    probe_per_gene = 'rhizobium.probes_per_gene.txt', #\n",
    "    primary_probes = 'rhizobium.max_probes.txt', # the probes\n",
    "    selected_gene_list = 'selected_genes.xlsx', #a text file with locus_tag column\n",
    "    is_amplification = False, #True if using Twist\n",
    "    num_of_flanking = 2, #choose 2 or 4\n",
    "    max_probes_per_ch = {'fluor_640nm' : 25, 'fluor_560nm' : 25, 'fluor_488nm' : 30}, #\n",
    "    probes_to_remove = ['R6','R21','R36','R107'], # problematic ROs to remove # or readouts that were used in another set\n",
    "    reference_genes = [],\n",
    "    genes_of_interest = [], #genes to priorize in fluor_640nm\n",
    "    positive_control_genes = { }, # gene or operon where probes for 3 channels will be generated\n",
    "    negative_control_genes = { }, # gene or operon where probes for 3 channels will be generated #'genes': ['P1_gp003','P1_gp013','P1_gp078'], 'readouts' : {'A647': 4,'A488' : 5, 'A550' : 15}\n",
    ")\n",
    "\n",
    "probe_designer.design()\n"
   ]
  }
 ],
 "metadata": {
  "kernelspec": {
   "display_name": "Python 3",
   "language": "python",
   "name": "python3"
  },
  "language_info": {
   "codemirror_mode": {
    "name": "ipython",
    "version": 3
   },
   "file_extension": ".py",
   "mimetype": "text/x-python",
   "name": "python",
   "nbconvert_exporter": "python",
   "pygments_lexer": "ipython3",
   "version": "3.9.16"
  }
 },
 "nbformat": 4,
 "nbformat_minor": 0
}
